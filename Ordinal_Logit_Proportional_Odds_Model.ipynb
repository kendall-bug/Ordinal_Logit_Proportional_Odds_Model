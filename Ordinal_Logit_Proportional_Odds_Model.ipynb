{
 "cells": [
  {
   "attachments": {},
   "cell_type": "markdown",
   "metadata": {},
   "source": [
    "# Ordinal Logit/Proportional Odds Model\n",
    "\n",
    "##### Model Summary:\n",
    "An ordered logistic regression model is used when the outcome variable is categorical, and the order of those categories matter. For example, this model may be used to investigate what factors contribute to a customer feeling Unsatisfied, Netural, or Satisfied toward a product, or determine if a movie is likely to receive a 1-5 score on a 5-star rating system.\n",
    "\n",
    "##### Dataset:\n",
    "The IBM HR Analytics Employee Attrition & Performance dataset can be found at https://www.kaggle.com/datasets/pavansubhasht/ibm-hr-analytics-attrition-datase. The site also includes a data dictionary.\n",
    "\n",
    "##### Problem Statement:\n",
    "Due to changes in the job market, IBM wants to conduct an analysis to help them better retain their existing employees. The Human Resources team has asked you to identify trends between employees and their work satisfaction level."
   ]
  },
  {
   "cell_type": "code",
   "execution_count": 5,
   "metadata": {},
   "outputs": [
    {
     "data": {
      "text/plain": [
       "'C:\\\\Users\\\\18594\\\\Ordered_Logit_Propotional_Odds_Model'"
      ]
     },
     "execution_count": 5,
     "metadata": {},
     "output_type": "execute_result"
    }
   ],
   "source": [
    "# import packages\n",
    "#!pip install pandas\n",
    "import pandas as pd\n",
    "from pandas.api.types import CategoricalDtype\n",
    "import os\n",
    "import numpy as np\n",
    "\n",
    "# stats packages \n",
    "import scipy.stats as stats\n",
    "#!pip install statsmodels\n",
    "import statsmodels.stats.api as sms\n",
    "from scipy.stats import normaltest # uses D’Agostino test for normality\n",
    "from scipy.stats import wilcoxon\n",
    "from statsmodels.miscmodels.ordinal_model import OrderedModel # https://www.statsmodels.org/dev/generated/statsmodels.miscmodels.ordinal_model.OrderedModel.html\n",
    "\n",
    "# data viz\n",
    "import matplotlib.pyplot as plt\n",
    "#!pip install seaborn\n",
    "import seaborn as sns\n",
    "\n",
    "os.getcwd()"
   ]
  },
  {
   "cell_type": "markdown",
   "metadata": {},
   "source": [
    "### Import data"
   ]
  },
  {
   "cell_type": "code",
   "execution_count": 11,
   "metadata": {},
   "outputs": [
    {
     "name": "stdout",
     "output_type": "stream",
     "text": [
      "Shape of data frame is: (1233, 35)\n"
     ]
    },
    {
     "data": {
      "text/html": [
       "<div>\n",
       "<style scoped>\n",
       "    .dataframe tbody tr th:only-of-type {\n",
       "        vertical-align: middle;\n",
       "    }\n",
       "\n",
       "    .dataframe tbody tr th {\n",
       "        vertical-align: top;\n",
       "    }\n",
       "\n",
       "    .dataframe thead th {\n",
       "        text-align: right;\n",
       "    }\n",
       "</style>\n",
       "<table border=\"1\" class=\"dataframe\">\n",
       "  <thead>\n",
       "    <tr style=\"text-align: right;\">\n",
       "      <th></th>\n",
       "      <th>Age</th>\n",
       "      <th>Attrition</th>\n",
       "      <th>BusinessTravel</th>\n",
       "      <th>DailyRate</th>\n",
       "      <th>Department</th>\n",
       "      <th>DistanceFromHome</th>\n",
       "      <th>Education</th>\n",
       "      <th>EducationField</th>\n",
       "      <th>EmployeeCount</th>\n",
       "      <th>EmployeeNumber</th>\n",
       "      <th>...</th>\n",
       "      <th>RelationshipSatisfaction</th>\n",
       "      <th>StandardHours</th>\n",
       "      <th>StockOptionLevel</th>\n",
       "      <th>TotalWorkingYears</th>\n",
       "      <th>TrainingTimesLastYear</th>\n",
       "      <th>WorkLifeBalance</th>\n",
       "      <th>YearsAtCompany</th>\n",
       "      <th>YearsInCurrentRole</th>\n",
       "      <th>YearsSinceLastPromotion</th>\n",
       "      <th>YearsWithCurrManager</th>\n",
       "    </tr>\n",
       "  </thead>\n",
       "  <tbody>\n",
       "    <tr>\n",
       "      <th>1</th>\n",
       "      <td>49</td>\n",
       "      <td>No</td>\n",
       "      <td>Travel_Frequently</td>\n",
       "      <td>279</td>\n",
       "      <td>Research &amp; Development</td>\n",
       "      <td>8</td>\n",
       "      <td>1</td>\n",
       "      <td>Life Sciences</td>\n",
       "      <td>1</td>\n",
       "      <td>2</td>\n",
       "      <td>...</td>\n",
       "      <td>4</td>\n",
       "      <td>80</td>\n",
       "      <td>1</td>\n",
       "      <td>10</td>\n",
       "      <td>3</td>\n",
       "      <td>3</td>\n",
       "      <td>10</td>\n",
       "      <td>7</td>\n",
       "      <td>1</td>\n",
       "      <td>7</td>\n",
       "    </tr>\n",
       "    <tr>\n",
       "      <th>3</th>\n",
       "      <td>33</td>\n",
       "      <td>No</td>\n",
       "      <td>Travel_Frequently</td>\n",
       "      <td>1392</td>\n",
       "      <td>Research &amp; Development</td>\n",
       "      <td>3</td>\n",
       "      <td>4</td>\n",
       "      <td>Life Sciences</td>\n",
       "      <td>1</td>\n",
       "      <td>5</td>\n",
       "      <td>...</td>\n",
       "      <td>3</td>\n",
       "      <td>80</td>\n",
       "      <td>0</td>\n",
       "      <td>8</td>\n",
       "      <td>3</td>\n",
       "      <td>3</td>\n",
       "      <td>8</td>\n",
       "      <td>7</td>\n",
       "      <td>3</td>\n",
       "      <td>0</td>\n",
       "    </tr>\n",
       "    <tr>\n",
       "      <th>4</th>\n",
       "      <td>27</td>\n",
       "      <td>No</td>\n",
       "      <td>Travel_Rarely</td>\n",
       "      <td>591</td>\n",
       "      <td>Research &amp; Development</td>\n",
       "      <td>2</td>\n",
       "      <td>1</td>\n",
       "      <td>Medical</td>\n",
       "      <td>1</td>\n",
       "      <td>7</td>\n",
       "      <td>...</td>\n",
       "      <td>4</td>\n",
       "      <td>80</td>\n",
       "      <td>1</td>\n",
       "      <td>6</td>\n",
       "      <td>3</td>\n",
       "      <td>3</td>\n",
       "      <td>2</td>\n",
       "      <td>2</td>\n",
       "      <td>2</td>\n",
       "      <td>2</td>\n",
       "    </tr>\n",
       "    <tr>\n",
       "      <th>5</th>\n",
       "      <td>32</td>\n",
       "      <td>No</td>\n",
       "      <td>Travel_Frequently</td>\n",
       "      <td>1005</td>\n",
       "      <td>Research &amp; Development</td>\n",
       "      <td>2</td>\n",
       "      <td>2</td>\n",
       "      <td>Life Sciences</td>\n",
       "      <td>1</td>\n",
       "      <td>8</td>\n",
       "      <td>...</td>\n",
       "      <td>3</td>\n",
       "      <td>80</td>\n",
       "      <td>0</td>\n",
       "      <td>8</td>\n",
       "      <td>2</td>\n",
       "      <td>2</td>\n",
       "      <td>7</td>\n",
       "      <td>7</td>\n",
       "      <td>3</td>\n",
       "      <td>6</td>\n",
       "    </tr>\n",
       "    <tr>\n",
       "      <th>6</th>\n",
       "      <td>59</td>\n",
       "      <td>No</td>\n",
       "      <td>Travel_Rarely</td>\n",
       "      <td>1324</td>\n",
       "      <td>Research &amp; Development</td>\n",
       "      <td>3</td>\n",
       "      <td>3</td>\n",
       "      <td>Medical</td>\n",
       "      <td>1</td>\n",
       "      <td>10</td>\n",
       "      <td>...</td>\n",
       "      <td>1</td>\n",
       "      <td>80</td>\n",
       "      <td>3</td>\n",
       "      <td>12</td>\n",
       "      <td>3</td>\n",
       "      <td>2</td>\n",
       "      <td>1</td>\n",
       "      <td>0</td>\n",
       "      <td>0</td>\n",
       "      <td>0</td>\n",
       "    </tr>\n",
       "  </tbody>\n",
       "</table>\n",
       "<p>5 rows × 35 columns</p>\n",
       "</div>"
      ],
      "text/plain": [
       "   Age Attrition     BusinessTravel  DailyRate              Department  \\\n",
       "1   49        No  Travel_Frequently        279  Research & Development   \n",
       "3   33        No  Travel_Frequently       1392  Research & Development   \n",
       "4   27        No      Travel_Rarely        591  Research & Development   \n",
       "5   32        No  Travel_Frequently       1005  Research & Development   \n",
       "6   59        No      Travel_Rarely       1324  Research & Development   \n",
       "\n",
       "   DistanceFromHome  Education EducationField  EmployeeCount  EmployeeNumber  \\\n",
       "1                 8          1  Life Sciences              1               2   \n",
       "3                 3          4  Life Sciences              1               5   \n",
       "4                 2          1        Medical              1               7   \n",
       "5                 2          2  Life Sciences              1               8   \n",
       "6                 3          3        Medical              1              10   \n",
       "\n",
       "   ...  RelationshipSatisfaction StandardHours  StockOptionLevel  \\\n",
       "1  ...                         4            80                 1   \n",
       "3  ...                         3            80                 0   \n",
       "4  ...                         4            80                 1   \n",
       "5  ...                         3            80                 0   \n",
       "6  ...                         1            80                 3   \n",
       "\n",
       "   TotalWorkingYears  TrainingTimesLastYear WorkLifeBalance  YearsAtCompany  \\\n",
       "1                 10                      3               3              10   \n",
       "3                  8                      3               3               8   \n",
       "4                  6                      3               3               2   \n",
       "5                  8                      2               2               7   \n",
       "6                 12                      3               2               1   \n",
       "\n",
       "  YearsInCurrentRole  YearsSinceLastPromotion  YearsWithCurrManager  \n",
       "1                  7                        1                     7  \n",
       "3                  7                        3                     0  \n",
       "4                  2                        2                     2  \n",
       "5                  7                        3                     6  \n",
       "6                  0                        0                     0  \n",
       "\n",
       "[5 rows x 35 columns]"
      ]
     },
     "execution_count": 11,
     "metadata": {},
     "output_type": "execute_result"
    }
   ],
   "source": [
    "# import data\n",
    "df = pd.read_csv('C:\\\\Users\\\\18594\\\\Ordered_Logit_Propotional_Odds_Model\\\\HR_Employee_Attrition.csv')\n",
    "\n",
    "# Since we are only looking at studying current employees, you will want to filter the data down to where Attrition=0\n",
    "df = df.loc[df['Attrition'] == 'No']\n",
    "\n",
    "# preview data\n",
    "print(\"Shape of data frame is:\",df.shape)\n",
    "df.head()"
   ]
  },
  {
   "cell_type": "code",
   "execution_count": 12,
   "metadata": {},
   "outputs": [
    {
     "data": {
      "text/plain": [
       "Age                          int64\n",
       "Attrition                   object\n",
       "BusinessTravel              object\n",
       "DailyRate                    int64\n",
       "Department                  object\n",
       "DistanceFromHome             int64\n",
       "Education                    int64\n",
       "EducationField              object\n",
       "EmployeeCount                int64\n",
       "EmployeeNumber               int64\n",
       "EnvironmentSatisfaction      int64\n",
       "Gender                      object\n",
       "HourlyRate                   int64\n",
       "JobInvolvement               int64\n",
       "JobLevel                     int64\n",
       "JobRole                     object\n",
       "JobSatisfaction              int64\n",
       "MaritalStatus               object\n",
       "MonthlyIncome                int64\n",
       "MonthlyRate                  int64\n",
       "NumCompaniesWorked           int64\n",
       "Over18                      object\n",
       "OverTime                    object\n",
       "PercentSalaryHike            int64\n",
       "PerformanceRating            int64\n",
       "RelationshipSatisfaction     int64\n",
       "StandardHours                int64\n",
       "StockOptionLevel             int64\n",
       "TotalWorkingYears            int64\n",
       "TrainingTimesLastYear        int64\n",
       "WorkLifeBalance              int64\n",
       "YearsAtCompany               int64\n",
       "YearsInCurrentRole           int64\n",
       "YearsSinceLastPromotion      int64\n",
       "YearsWithCurrManager         int64\n",
       "dtype: object"
      ]
     },
     "execution_count": 12,
     "metadata": {},
     "output_type": "execute_result"
    }
   ],
   "source": [
    "# check data types\n",
    "df.dtypes"
   ]
  },
  {
   "cell_type": "markdown",
   "metadata": {},
   "source": [
    "##### In this dataset, employees rank their JobSatisfaction is based on the following statements:\n",
    "\n",
    "1. I am highly dissatisfied with my role\n",
    "2. I am dissatisfied with my role\n",
    "3. I am satisfied with my role\n",
    "4. I am highly satisfied with my role"
   ]
  },
  {
   "cell_type": "code",
   "execution_count": 13,
   "metadata": {},
   "outputs": [],
   "source": [
    "# Define JobSatisfaction from highly dissatisfied (1) being lowest rank to highly satisfied (4) being the highest rank\n",
    "# https://analyticsindiamag.com/a-complete-tutorial-on-ordinal-regression-in-python/\n",
    "cat_type = CategoricalDtype(categories=[1,2,3,4], ordered=True)\n",
    "df[\"JobSatisfaction\"] = df[\"JobSatisfaction\"].astype(cat_type)\n",
    "\n",
    "# identify other categorical variables as a categorical variable\n",
    "# note ordered = False parameter that tells us that in these order does not matter\n",
    "# cat_type2 = CategoricalDtype(categories=[0,1], ordered=False)\n",
    "# df[\"Gender\"] = df[\"Gender\"].astype(cat_type2)\n",
    "\n",
    "# convert other dtypes as needed\n"
   ]
  },
  {
   "cell_type": "markdown",
   "metadata": {},
   "source": [
    "### Exploratory Data Analysis\n",
    "\n",
    "As we plot the spread of JobSatisfaction, it seems most people are satisfied overall in their role - this is great news for us! But, there are a considerable number of employees who have a job satisfaction rating of 1 or 2. These may be at a heightened risk of leaving the company, so we want to dive deeper.\n"
   ]
  },
  {
   "cell_type": "code",
   "execution_count": 14,
   "metadata": {},
   "outputs": [
    {
     "data": {
      "text/plain": [
       "Text(0.5, 1.0, 'Score Distribution')"
      ]
     },
     "execution_count": 14,
     "metadata": {},
     "output_type": "execute_result"
    },
    {
     "data": {
      "image/png": "[encoded data removed]",
      "text/plain": [
       "<Figure size 432x288 with 1 Axes>"
      ]
     },
     "metadata": {
      "needs_background": "light"
     },
     "output_type": "display_data"
    }
   ],
   "source": [
    "plt.subplot(222)\n",
    "plt.hist(df['JobSatisfaction'],bins=20,color='m')\n",
    "plt.xlabel('Job Satisfaction')\n",
    "plt.title('Score Distribution')"
   ]
  },
  {
   "cell_type": "code",
   "execution_count": 16,
   "metadata": {},
   "outputs": [
    {
     "data": {
      "text/plain": [
       "4    407\n",
       "3    369\n",
       "2    234\n",
       "1    223\n",
       "Name: JobSatisfaction, dtype: int64"
      ]
     },
     "execution_count": 16,
     "metadata": {},
     "output_type": "execute_result"
    }
   ],
   "source": [
    "# Number of people who provided each response\n",
    "df['JobSatisfaction'].value_counts()"
   ]
  },
  {
   "cell_type": "markdown",
   "metadata": {},
   "source": [
    "# Model Setup"
   ]
  },
  {
   "cell_type": "code",
   "execution_count": 19,
   "metadata": {},
   "outputs": [
    {
     "name": "stdout",
     "output_type": "stream",
     "text": [
      "Optimization terminated successfully.\n",
      "         Current function value: 1.350454\n",
      "         Iterations: 19\n",
      "         Function evaluations: 24\n",
      "         Gradient evaluations: 24\n"
     ]
    },
    {
     "data": {
      "text/html": [
       "<table class=\"simpletable\">\n",
       "<caption>OrderedModel Results</caption>\n",
       "<tr>\n",
       "  <th>Dep. Variable:</th>      <td>JobSatisfaction</td>  <th>  Log-Likelihood:    </th> <td> -1665.1</td>\n",
       "</tr>\n",
       "<tr>\n",
       "  <th>Model:</th>               <td>OrderedModel</td>    <th>  AIC:               </th> <td>   3346.</td>\n",
       "</tr>\n",
       "<tr>\n",
       "  <th>Method:</th>           <td>Maximum Likelihood</td> <th>  BIC:               </th> <td>   3387.</td>\n",
       "</tr>\n",
       "<tr>\n",
       "  <th>Date:</th>              <td>Sun, 04 Dec 2022</td>  <th>                     </th>     <td> </td>   \n",
       "</tr>\n",
       "<tr>\n",
       "  <th>Time:</th>                  <td>00:49:39</td>      <th>                     </th>     <td> </td>   \n",
       "</tr>\n",
       "<tr>\n",
       "  <th>No. Observations:</th>       <td>  1233</td>       <th>                     </th>     <td> </td>   \n",
       "</tr>\n",
       "<tr>\n",
       "  <th>Df Residuals:</th>           <td>  1225</td>       <th>                     </th>     <td> </td>   \n",
       "</tr>\n",
       "<tr>\n",
       "  <th>Df Model:</th>               <td>     8</td>       <th>                     </th>     <td> </td>   \n",
       "</tr>\n",
       "</table>\n",
       "<table class=\"simpletable\">\n",
       "<tr>\n",
       "             <td></td>                <th>coef</th>     <th>std err</th>      <th>z</th>      <th>P>|z|</th>  <th>[0.025</th>    <th>0.975]</th>  \n",
       "</tr>\n",
       "<tr>\n",
       "  <th>MonthlyIncome</th>           <td>-3.348e-06</td> <td> 1.23e-05</td> <td>   -0.273</td> <td> 0.785</td> <td>-2.74e-05</td> <td> 2.07e-05</td>\n",
       "</tr>\n",
       "<tr>\n",
       "  <th>TrainingTimesLastYear</th>   <td>   -0.0128</td> <td>    0.040</td> <td>   -0.324</td> <td> 0.746</td> <td>   -0.090</td> <td>    0.065</td>\n",
       "</tr>\n",
       "<tr>\n",
       "  <th>YearsAtCompany</th>          <td>   -0.0056</td> <td>    0.014</td> <td>   -0.385</td> <td> 0.700</td> <td>   -0.034</td> <td>    0.023</td>\n",
       "</tr>\n",
       "<tr>\n",
       "  <th>YearsSinceLastPromotion</th> <td>   -0.0140</td> <td>    0.020</td> <td>   -0.695</td> <td> 0.487</td> <td>   -0.053</td> <td>    0.025</td>\n",
       "</tr>\n",
       "<tr>\n",
       "  <th>YearsInCurrentRole</th>      <td>   -0.0015</td> <td>    0.021</td> <td>   -0.070</td> <td> 0.944</td> <td>   -0.043</td> <td>    0.040</td>\n",
       "</tr>\n",
       "<tr>\n",
       "  <th>1/2</th>                     <td>   -1.6509</td> <td>    0.160</td> <td>  -10.343</td> <td> 0.000</td> <td>   -1.964</td> <td>   -1.338</td>\n",
       "</tr>\n",
       "<tr>\n",
       "  <th>2/3</th>                     <td>   -0.0176</td> <td>    0.061</td> <td>   -0.288</td> <td> 0.773</td> <td>   -0.138</td> <td>    0.102</td>\n",
       "</tr>\n",
       "<tr>\n",
       "  <th>3/4</th>                     <td>    0.2145</td> <td>    0.046</td> <td>    4.621</td> <td> 0.000</td> <td>    0.124</td> <td>    0.305</td>\n",
       "</tr>\n",
       "</table>"
      ],
      "text/plain": [
       "<class 'statsmodels.iolib.summary.Summary'>\n",
       "\"\"\"\n",
       "                             OrderedModel Results                             \n",
       "==============================================================================\n",
       "Dep. Variable:        JobSatisfaction   Log-Likelihood:                -1665.1\n",
       "Model:                   OrderedModel   AIC:                             3346.\n",
       "Method:            Maximum Likelihood   BIC:                             3387.\n",
       "Date:                Sun, 04 Dec 2022                                         \n",
       "Time:                        00:49:39                                         \n",
       "No. Observations:                1233                                         \n",
       "Df Residuals:                    1225                                         \n",
       "Df Model:                           8                                         \n",
       "===========================================================================================\n",
       "                              coef    std err          z      P>|z|      [0.025      0.975]\n",
       "-------------------------------------------------------------------------------------------\n",
       "MonthlyIncome           -3.348e-06   1.23e-05     -0.273      0.785   -2.74e-05    2.07e-05\n",
       "TrainingTimesLastYear      -0.0128      0.040     -0.324      0.746      -0.090       0.065\n",
       "YearsAtCompany             -0.0056      0.014     -0.385      0.700      -0.034       0.023\n",
       "YearsSinceLastPromotion    -0.0140      0.020     -0.695      0.487      -0.053       0.025\n",
       "YearsInCurrentRole         -0.0015      0.021     -0.070      0.944      -0.043       0.040\n",
       "1/2                        -1.6509      0.160    -10.343      0.000      -1.964      -1.338\n",
       "2/3                        -0.0176      0.061     -0.288      0.773      -0.138       0.102\n",
       "3/4                         0.2145      0.046      4.621      0.000       0.124       0.305\n",
       "===========================================================================================\n",
       "\"\"\""
      ]
     },
     "execution_count": 19,
     "metadata": {},
     "output_type": "execute_result"
    }
   ],
   "source": [
    "logit = OrderedModel(df['JobSatisfaction'], # target variable\n",
    "                        df[['MonthlyIncome','TrainingTimesLastYear', 'YearsAtCompany', 'YearsSinceLastPromotion', 'YearsInCurrentRole']], # independent variables\n",
    "                        distr='logit') # model distribution\n",
    " \n",
    "results = logit.fit(method='bfgs')\n",
    "results.summary()"
   ]
  },
  {
   "cell_type": "code",
   "execution_count": 20,
   "metadata": {},
   "outputs": [
    {
     "name": "stdout",
     "output_type": "stream",
     "text": [
      "                         Odds Ratios For Each Variable\n",
      "MonthlyIncome                                 0.999997\n",
      "TrainingTimesLastYear                         0.987236\n",
      "YearsAtCompany                                0.994445\n",
      "YearsSinceLastPromotion                       0.986127\n",
      "YearsInCurrentRole                            0.998506\n",
      "1/2                                           0.191877\n",
      "2/3                                           0.982519\n",
      "3/4                                           1.239245\n"
     ]
    }
   ],
   "source": [
    "# calculate odds ratios for interpretation\n",
    "# https://www.andrewvillazon.com/logistic-regression-python-statsmodels/#calculating-odds-ratios,≥≥≥≥≥≥≥≥≥≥≥≥≥≥≥≥ \n",
    "odds_ratios = pd.DataFrame(\n",
    "    {\n",
    "        \"Odds Ratios For Each Variable\": results.params,\n",
    "    }\n",
    ")\n",
    "odds_ratios = np.exp(odds_ratios)\n",
    "print(odds_ratios)"
   ]
  },
  {
   "cell_type": "code",
   "execution_count": null,
   "metadata": {},
   "outputs": [],
   "source": []
  }
 ],
 "metadata": {
  "kernelspec": {
   "display_name": "Python 3",
   "language": "python",
   "name": "python3"
  },
  "language_info": {
   "codemirror_mode": {
    "name": "ipython",
    "version": 3
   },
   "file_extension": ".py",
   "mimetype": "text/x-python",
   "name": "python",
   "nbconvert_exporter": "python",
   "pygments_lexer": "ipython3",
   "version": "3.7.4"
  }
 },
 "nbformat": 4,
 "nbformat_minor": 2
}
